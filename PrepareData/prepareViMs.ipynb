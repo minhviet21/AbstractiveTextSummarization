{
 "cells": [
  {
   "cell_type": "code",
   "execution_count": 1,
   "metadata": {},
   "outputs": [],
   "source": [
    "import re \n",
    "import pandas as pd\n",
    "import os"
   ]
  },
  {
   "cell_type": "code",
   "execution_count": 2,
   "metadata": {},
   "outputs": [],
   "source": [
    "clusters = os.listdir('original')\n",
    "clusters.remove(\".DS_Store\")\n"
   ]
  },
  {
   "cell_type": "code",
   "execution_count": 4,
   "metadata": {},
   "outputs": [],
   "source": [
    "\n",
    "d = {\"Document\" : [\"test\"], \"Summary\":[\"test\"], \"Dataset\":[\"ViMs\"]}\n",
    "df = pd.DataFrame(data = d)\n",
    "\n",
    "for clus in clusters:\n",
    "    files = os.listdir('original/' + clus +'/original')\n",
    "    \n",
    "    for file in files:\n",
    "        with open(f\"original/{clus}/original/{file}\", 'r', encoding='utf-8') as f:\n",
    "            text = f.read()\n",
    "            text = re.split('Summary:|Content:', text)\n",
    "            summary = text[1].replace(\"\\n\", \"\")\n",
    "            content = text[2].replace(\"\\n\", \"\")\n",
    "            df.loc[len(df.index)] = [content, summary, \"ViMs\"] \n",
    "\n",
    "df.to_csv('ViMs_dataset.csv', index=True) \n",
    "    "
   ]
  },
  {
   "cell_type": "code",
   "execution_count": 5,
   "metadata": {},
   "outputs": [
    {
     "data": {
      "text/html": [
       "<div>\n",
       "<style scoped>\n",
       "    .dataframe tbody tr th:only-of-type {\n",
       "        vertical-align: middle;\n",
       "    }\n",
       "\n",
       "    .dataframe tbody tr th {\n",
       "        vertical-align: top;\n",
       "    }\n",
       "\n",
       "    .dataframe thead th {\n",
       "        text-align: right;\n",
       "    }\n",
       "</style>\n",
       "<table border=\"1\" class=\"dataframe\">\n",
       "  <thead>\n",
       "    <tr style=\"text-align: right;\">\n",
       "      <th></th>\n",
       "      <th>Document</th>\n",
       "      <th>Summary</th>\n",
       "      <th>Dataset</th>\n",
       "    </tr>\n",
       "  </thead>\n",
       "  <tbody>\n",
       "    <tr>\n",
       "      <th>0</th>\n",
       "      <td>test</td>\n",
       "      <td>test</td>\n",
       "      <td>ViMs</td>\n",
       "    </tr>\n",
       "    <tr>\n",
       "      <th>1</th>\n",
       "      <td>Tổng thư ký Tổ chức Hiệp ước Bắc Đại Tây Dương...</td>\n",
       "      <td>Anh, Pháp, Hy Lạp, NATO đều đề nghị giúp đỡ A...</td>\n",
       "      <td>ViMs</td>\n",
       "    </tr>\n",
       "    <tr>\n",
       "      <th>2</th>\n",
       "      <td>Chiếc Airbus A320-232 số hiệu MS804 của hãng h...</td>\n",
       "      <td>Có những câu hỏi đặt ra cho cả chính phủ Pháp...</td>\n",
       "      <td>ViMs</td>\n",
       "    </tr>\n",
       "    <tr>\n",
       "      <th>3</th>\n",
       "      <td>Phó Chủ tịch EgyptAir, ông Ahmed Adel, không l...</td>\n",
       "      <td>Vị trí chiếc máy bay xấu số MS804 đã được phá...</td>\n",
       "      <td>ViMs</td>\n",
       "    </tr>\n",
       "    <tr>\n",
       "      <th>4</th>\n",
       "      <td>Theo các nguồn tin, hải mảnh nhựa vỡ được tìm ...</td>\n",
       "      <td>Liên quan vụ máy bay mang số hiệu MS804 của h...</td>\n",
       "      <td>ViMs</td>\n",
       "    </tr>\n",
       "    <tr>\n",
       "      <th>...</th>\n",
       "      <td>...</td>\n",
       "      <td>...</td>\n",
       "      <td>...</td>\n",
       "    </tr>\n",
       "    <tr>\n",
       "      <th>1941</th>\n",
       "      <td>Chiều 3-6, ông Lê Thy Hà - Trưởng Đại diện Cản...</td>\n",
       "      <td>Sau hơn 7 giờ phải “đóng cửa” sân bay để khắc...</td>\n",
       "      <td>ViMs</td>\n",
       "    </tr>\n",
       "    <tr>\n",
       "      <th>1942</th>\n",
       "      <td>Vị trí hư hỏng được xác định tại lý trình H0+5...</td>\n",
       "      <td>Chiều 3/6, ông Lê Thy Hà, Trưởng đại diện Cản...</td>\n",
       "      <td>ViMs</td>\n",
       "    </tr>\n",
       "    <tr>\n",
       "      <th>1943</th>\n",
       "      <td>Chiều 3/6, ông Lê Thy Hà – Trưởng Đại diện Cản...</td>\n",
       "      <td>Chiều 3/6, công tác khắc phục vị trí bị bong ...</td>\n",
       "      <td>ViMs</td>\n",
       "    </tr>\n",
       "    <tr>\n",
       "      <th>1944</th>\n",
       "      <td>Trước đó, lúc 5 giờ 52 phút ngày 3.6, theo quy...</td>\n",
       "      <td>Chiều 3.6, bà Trần Thị Minh Nguyệt – Chánh vă...</td>\n",
       "      <td>ViMs</td>\n",
       "    </tr>\n",
       "    <tr>\n",
       "      <th>1945</th>\n",
       "      <td>Trước đó, vào lúc 5 giờ 52 phút cùng ngày, the...</td>\n",
       "      <td>Tổng công ty cảng hàng không Việt Nam (ACV) c...</td>\n",
       "      <td>ViMs</td>\n",
       "    </tr>\n",
       "  </tbody>\n",
       "</table>\n",
       "<p>1946 rows × 3 columns</p>\n",
       "</div>"
      ],
      "text/plain": [
       "                                               Document  \\\n",
       "0                                                  test   \n",
       "1     Tổng thư ký Tổ chức Hiệp ước Bắc Đại Tây Dương...   \n",
       "2     Chiếc Airbus A320-232 số hiệu MS804 của hãng h...   \n",
       "3     Phó Chủ tịch EgyptAir, ông Ahmed Adel, không l...   \n",
       "4     Theo các nguồn tin, hải mảnh nhựa vỡ được tìm ...   \n",
       "...                                                 ...   \n",
       "1941  Chiều 3-6, ông Lê Thy Hà - Trưởng Đại diện Cản...   \n",
       "1942  Vị trí hư hỏng được xác định tại lý trình H0+5...   \n",
       "1943  Chiều 3/6, ông Lê Thy Hà – Trưởng Đại diện Cản...   \n",
       "1944  Trước đó, lúc 5 giờ 52 phút ngày 3.6, theo quy...   \n",
       "1945  Trước đó, vào lúc 5 giờ 52 phút cùng ngày, the...   \n",
       "\n",
       "                                                Summary Dataset  \n",
       "0                                                  test    ViMs  \n",
       "1      Anh, Pháp, Hy Lạp, NATO đều đề nghị giúp đỡ A...    ViMs  \n",
       "2      Có những câu hỏi đặt ra cho cả chính phủ Pháp...    ViMs  \n",
       "3      Vị trí chiếc máy bay xấu số MS804 đã được phá...    ViMs  \n",
       "4      Liên quan vụ máy bay mang số hiệu MS804 của h...    ViMs  \n",
       "...                                                 ...     ...  \n",
       "1941   Sau hơn 7 giờ phải “đóng cửa” sân bay để khắc...    ViMs  \n",
       "1942   Chiều 3/6, ông Lê Thy Hà, Trưởng đại diện Cản...    ViMs  \n",
       "1943   Chiều 3/6, công tác khắc phục vị trí bị bong ...    ViMs  \n",
       "1944   Chiều 3.6, bà Trần Thị Minh Nguyệt – Chánh vă...    ViMs  \n",
       "1945   Tổng công ty cảng hàng không Việt Nam (ACV) c...    ViMs  \n",
       "\n",
       "[1946 rows x 3 columns]"
      ]
     },
     "execution_count": 5,
     "metadata": {},
     "output_type": "execute_result"
    }
   ],
   "source": [
    "df"
   ]
  },
  {
   "cell_type": "code",
   "execution_count": 2,
   "metadata": {},
   "outputs": [],
   "source": [
    "df_category = pd.read_csv(r\"G:\\g\\Hoc\\2023.2\\Project\\Final Dataset\\Vims_vi_category.csv\")"
   ]
  },
  {
   "cell_type": "code",
   "execution_count": 4,
   "metadata": {},
   "outputs": [
    {
     "name": "stdout",
     "output_type": "stream",
     "text": [
      "Cong_nghe_thong_tin: 73\n",
      "The_gioi: 294\n",
      "Chinh_tri_Xa_hoi: 403\n",
      "Phap_luat: 455\n",
      "Suc_khoe: 32\n",
      "Kinh_doanh: 198\n",
      "Khoa_hoc: 35\n",
      "Doi_song: 14\n",
      "Van_hoa: 146\n",
      "The_thao: 251\n"
     ]
    }
   ],
   "source": [
    "from collections import Counter\n",
    "\n",
    "# Lấy cột 'category' từ DataFrame và chuyển thành list\n",
    "categories = df_category['category'].tolist()\n",
    "\n",
    "# Sử dụng Counter để đếm số lượng mẫu thuộc từng category\n",
    "category_counts = Counter(categories)\n",
    "\n",
    "# In ra số lượng mẫu của mỗi category\n",
    "for category, count in category_counts.items():\n",
    "    print(f\"{category}: {count}\")"
   ]
  },
  {
   "cell_type": "code",
   "execution_count": 11,
   "metadata": {},
   "outputs": [],
   "source": [
    "df_business = df_category[df_category['category'] == 'Phap_luat']"
   ]
  },
  {
   "cell_type": "code",
   "execution_count": 14,
   "metadata": {},
   "outputs": [],
   "source": [
    "pd.set_option('display.max_rows', None)\n"
   ]
  },
  {
   "cell_type": "code",
   "execution_count": 18,
   "metadata": {},
   "outputs": [],
   "source": [
    "pd.set_option('display.max_colwidth', 1000)"
   ]
  },
  {
   "cell_type": "code",
   "execution_count": null,
   "metadata": {},
   "outputs": [],
   "source": [
    "df_category"
   ]
  }
 ],
 "metadata": {
  "kernelspec": {
   "display_name": "Python 3",
   "language": "python",
   "name": "python3"
  },
  "language_info": {
   "codemirror_mode": {
    "name": "ipython",
    "version": 3
   },
   "file_extension": ".py",
   "mimetype": "text/x-python",
   "name": "python",
   "nbconvert_exporter": "python",
   "pygments_lexer": "ipython3",
   "version": "3.9.11"
  },
  "orig_nbformat": 4
 },
 "nbformat": 4,
 "nbformat_minor": 2
}
