{
 "cells": [
  {
   "cell_type": "code",
   "execution_count": 1,
   "metadata": {},
   "outputs": [],
   "source": [
    "import py_vncorenlp\n",
    "import pandas as pd\n"
   ]
  },
  {
   "cell_type": "code",
   "execution_count": 2,
   "metadata": {},
   "outputs": [],
   "source": [
    "\n",
    "\n",
    "\n",
    "rdrsegmenter = py_vncorenlp.VnCoreNLP(annotators=[\"wseg\"], save_dir= r'G:\\g\\Hoc\\2023.2\\Project\\Data_preprocess\\vncorenlp')\n",
    "\n",
    "#text = \"Ông Nguyễn Khắc Chúc  đang làm việc tại Đại học Quốc gia Hà Nội. Bà Lan, vợ ông Chúc, cũng làm việc tại đây.\"\n",
    "\n",
    "\n",
    "# ['Ông Nguyễn_Khắc_Chúc đang làm_việc tại Đại_học Quốc_gia Hà_Nội .', 'Bà Lan , vợ ông Chúc , cũng làm_việc tại đây .']"
   ]
  },
  {
   "cell_type": "code",
   "execution_count": 3,
   "metadata": {},
   "outputs": [],
   "source": [
    "def segmentation(text) :\n",
    "    seg = rdrsegmenter.word_segment(text)\n",
    "    return ' '.join(seg)\n"
   ]
  },
  {
   "cell_type": "code",
   "execution_count": 4,
   "metadata": {},
   "outputs": [],
   "source": [
    "df = pd.read_csv(r\"G:\\g\\Hoc\\2023.2\\Project\\vietnews.csv\")"
   ]
  },
  {
   "cell_type": "code",
   "execution_count": 5,
   "metadata": {},
   "outputs": [
    {
     "data": {
      "text/plain": [
       "Index(['Unnamed: 0', 'Document', 'Summary', 'Dataset'], dtype='object')"
      ]
     },
     "execution_count": 5,
     "metadata": {},
     "output_type": "execute_result"
    }
   ],
   "source": [
    "df.columns"
   ]
  },
  {
   "cell_type": "code",
   "execution_count": 6,
   "metadata": {},
   "outputs": [],
   "source": [
    "df.drop(columns=[\"Unnamed: 0\"], inplace=True)"
   ]
  },
  {
   "cell_type": "code",
   "execution_count": 7,
   "metadata": {},
   "outputs": [],
   "source": [
    "df['Document_segmented'] = df['Document'].apply(segmentation)"
   ]
  },
  {
   "cell_type": "code",
   "execution_count": 8,
   "metadata": {},
   "outputs": [
    {
     "data": {
      "text/html": [
       "<div>\n",
       "<style scoped>\n",
       "    .dataframe tbody tr th:only-of-type {\n",
       "        vertical-align: middle;\n",
       "    }\n",
       "\n",
       "    .dataframe tbody tr th {\n",
       "        vertical-align: top;\n",
       "    }\n",
       "\n",
       "    .dataframe thead th {\n",
       "        text-align: right;\n",
       "    }\n",
       "</style>\n",
       "<table border=\"1\" class=\"dataframe\">\n",
       "  <thead>\n",
       "    <tr style=\"text-align: right;\">\n",
       "      <th></th>\n",
       "      <th>Document</th>\n",
       "      <th>Summary</th>\n",
       "      <th>Dataset</th>\n",
       "      <th>Document_segmented</th>\n",
       "    </tr>\n",
       "  </thead>\n",
       "  <tbody>\n",
       "    <tr>\n",
       "      <th>0</th>\n",
       "      <td>test</td>\n",
       "      <td>test</td>\n",
       "      <td>vietnews</td>\n",
       "      <td>test</td>\n",
       "    </tr>\n",
       "    <tr>\n",
       "      <th>1</th>\n",
       "      <td>Theo lời khai của Huy tại phiên toà , để có ti...</td>\n",
       "      <td>Ngày 25/2 , TAND TP. Đà Nẵng tuyên phạt Hồ Xuâ...</td>\n",
       "      <td>vietnews</td>\n",
       "      <td>Theo lời khai của Huy tại phiên_toà , để có ti...</td>\n",
       "    </tr>\n",
       "    <tr>\n",
       "      <th>2</th>\n",
       "      <td>Tối 27/6 báo Người Lao Động đưa tin , một lãnh...</td>\n",
       "      <td>Phát hiện nam thanh niên đang thủ dâm trên xe ...</td>\n",
       "      <td>vietnews</td>\n",
       "      <td>Tối 27/6 báo Người Lao_Động đưa tin , một lãnh...</td>\n",
       "    </tr>\n",
       "    <tr>\n",
       "      <th>3</th>\n",
       "      <td>Quảng cáo như thần dượcTrên diễn đàn của các “...</td>\n",
       "      <td>“ Baby Support ” và “ Hello baby ” là hai cái ...</td>\n",
       "      <td>vietnews</td>\n",
       "      <td>Quảng_cáo như thần dượcTrên diễn_đàn của các “...</td>\n",
       "    </tr>\n",
       "    <tr>\n",
       "      <th>4</th>\n",
       "      <td>Như báo Người Đưa Tin đã phản ánh trước đó , T...</td>\n",
       "      <td>Liên quan đến vụ gây rối tại trạm thu phí trên...</td>\n",
       "      <td>vietnews</td>\n",
       "      <td>Như báo Người Đưa_Tin đã phản_ánh trước đó , T...</td>\n",
       "    </tr>\n",
       "  </tbody>\n",
       "</table>\n",
       "</div>"
      ],
      "text/plain": [
       "                                            Document  \\\n",
       "0                                               test   \n",
       "1  Theo lời khai của Huy tại phiên toà , để có ti...   \n",
       "2  Tối 27/6 báo Người Lao Động đưa tin , một lãnh...   \n",
       "3  Quảng cáo như thần dượcTrên diễn đàn của các “...   \n",
       "4  Như báo Người Đưa Tin đã phản ánh trước đó , T...   \n",
       "\n",
       "                                             Summary   Dataset  \\\n",
       "0                                               test  vietnews   \n",
       "1  Ngày 25/2 , TAND TP. Đà Nẵng tuyên phạt Hồ Xuâ...  vietnews   \n",
       "2  Phát hiện nam thanh niên đang thủ dâm trên xe ...  vietnews   \n",
       "3  “ Baby Support ” và “ Hello baby ” là hai cái ...  vietnews   \n",
       "4  Liên quan đến vụ gây rối tại trạm thu phí trên...  vietnews   \n",
       "\n",
       "                                  Document_segmented  \n",
       "0                                               test  \n",
       "1  Theo lời khai của Huy tại phiên_toà , để có ti...  \n",
       "2  Tối 27/6 báo Người Lao_Động đưa tin , một lãnh...  \n",
       "3  Quảng_cáo như thần dượcTrên diễn_đàn của các “...  \n",
       "4  Như báo Người Đưa_Tin đã phản_ánh trước đó , T...  "
      ]
     },
     "execution_count": 8,
     "metadata": {},
     "output_type": "execute_result"
    }
   ],
   "source": [
    "df.head()"
   ]
  },
  {
   "cell_type": "code",
   "execution_count": 9,
   "metadata": {},
   "outputs": [],
   "source": [
    "df.to_csv(\"vietnews_segmented.csv\")"
   ]
  }
 ],
 "metadata": {
  "kernelspec": {
   "display_name": "Python 3",
   "language": "python",
   "name": "python3"
  },
  "language_info": {
   "codemirror_mode": {
    "name": "ipython",
    "version": 3
   },
   "file_extension": ".py",
   "mimetype": "text/x-python",
   "name": "python",
   "nbconvert_exporter": "python",
   "pygments_lexer": "ipython3",
   "version": "3.9.11"
  }
 },
 "nbformat": 4,
 "nbformat_minor": 2
}
