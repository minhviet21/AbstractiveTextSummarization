{
 "cells": [
  {
   "cell_type": "code",
   "execution_count": 1,
   "metadata": {},
   "outputs": [],
   "source": [
    "import pandas as pd"
   ]
  },
  {
   "cell_type": "code",
   "execution_count": 12,
   "metadata": {},
   "outputs": [],
   "source": [
    "haianhjob = pd.read_csv(r\"G:\\g\\Hoc\\2023.2\\Dataset_NLP\\haianh_jobs_law.csv\")"
   ]
  },
  {
   "cell_type": "code",
   "execution_count": 13,
   "metadata": {},
   "outputs": [
    {
     "data": {
      "text/plain": [
       "Index(['Summary', 'Document', 'Segmented_document', 'Segmented_summary'], dtype='object')"
      ]
     },
     "execution_count": 13,
     "metadata": {},
     "output_type": "execute_result"
    }
   ],
   "source": [
    "haianhjob.drop(columns=[\"Unnamed: 0\"], inplace=True)\n",
    "haianhjob.columns"
   ]
  },
  {
   "cell_type": "code",
   "execution_count": 14,
   "metadata": {},
   "outputs": [],
   "source": [
    "dataset_name = \"haianhjobs_laodong\"\n",
    "haianhjob = haianhjob.assign(Dataset=dataset_name)"
   ]
  },
  {
   "cell_type": "code",
   "execution_count": 15,
   "metadata": {},
   "outputs": [
    {
     "data": {
      "text/html": [
       "<div>\n",
       "<style scoped>\n",
       "    .dataframe tbody tr th:only-of-type {\n",
       "        vertical-align: middle;\n",
       "    }\n",
       "\n",
       "    .dataframe tbody tr th {\n",
       "        vertical-align: top;\n",
       "    }\n",
       "\n",
       "    .dataframe thead th {\n",
       "        text-align: right;\n",
       "    }\n",
       "</style>\n",
       "<table border=\"1\" class=\"dataframe\">\n",
       "  <thead>\n",
       "    <tr style=\"text-align: right;\">\n",
       "      <th></th>\n",
       "      <th>Summary</th>\n",
       "      <th>Document</th>\n",
       "      <th>Segmented_document</th>\n",
       "      <th>Segmented_summary</th>\n",
       "      <th>Dataset</th>\n",
       "    </tr>\n",
       "  </thead>\n",
       "  <tbody>\n",
       "    <tr>\n",
       "      <th>0</th>\n",
       "      <td>Có thể nói chưa khi nào tình trạng “loạn lạc” ...</td>\n",
       "      <td>Như Lao Động đã đưa tin, 2 tháng nay, hàng chụ...</td>\n",
       "      <td>Như Lao_Động đã đưa tin , 2 tháng nay , hàng c...</td>\n",
       "      <td>Có_thể nói chưa khi nào tình_trạng “ loạn_lạc ...</td>\n",
       "      <td>haianhjobs_laodong</td>\n",
       "    </tr>\n",
       "    <tr>\n",
       "      <th>1</th>\n",
       "      <td>Ngày 26.9, Cơ quan CSĐT Công an TP Hồ Chí Minh...</td>\n",
       "      <td>Mở rộng điều tra vụ án Công ty Alibaba lừa đảo...</td>\n",
       "      <td>Mở_rộng điều_tra vụ án Công ty Alibaba lừa đảo...</td>\n",
       "      <td>Ngày 26.9 , Cơ_quan CSĐT Công_an TP Hồ_Chí_Min...</td>\n",
       "      <td>haianhjobs_laodong</td>\n",
       "    </tr>\n",
       "    <tr>\n",
       "      <th>2</th>\n",
       "      <td>Ngày 25.9, Cơ quan cảnh sát điều tra Công an T...</td>\n",
       "      <td>Cơ quan điều tra xác minh, xác định tất cả các...</td>\n",
       "      <td>Cơ_quan điều_tra xác_minh , xác_định tất_cả cá...</td>\n",
       "      <td>Ngày 25.9 , Cơ_quan cảnh_sát điều_tra Công_an ...</td>\n",
       "      <td>haianhjobs_laodong</td>\n",
       "    </tr>\n",
       "    <tr>\n",
       "      <th>3</th>\n",
       "      <td>Đã có 900 người tố cáo Chủ tịch Hội đồng quản ...</td>\n",
       "      <td>Tính đến ngày 24.9, Cơ quan Cảnh sát điều tra ...</td>\n",
       "      <td>Tính đến ngày 24.9 , Cơ_quan Cảnh_sát điều_tra...</td>\n",
       "      <td>Đã có 900 người tố_cáo Chủ_tịch Hội_đồng_quản_...</td>\n",
       "      <td>haianhjobs_laodong</td>\n",
       "    </tr>\n",
       "    <tr>\n",
       "      <th>4</th>\n",
       "      <td>Ngày 23.9, Cơ quan Cảnh sát điều tra (CSĐT) Cô...</td>\n",
       "      <td>Trước đó, ngày 18.9, Cơ quan CSĐT Công an TP H...</td>\n",
       "      <td>Trước đó , ngày 18.9 , Cơ_quan CSĐT Công_an TP...</td>\n",
       "      <td>Ngày 23.9 , Cơ_quan Cảnh_sát điều_tra ( CSĐT )...</td>\n",
       "      <td>haianhjobs_laodong</td>\n",
       "    </tr>\n",
       "    <tr>\n",
       "      <th>...</th>\n",
       "      <td>...</td>\n",
       "      <td>...</td>\n",
       "      <td>...</td>\n",
       "      <td>...</td>\n",
       "      <td>...</td>\n",
       "    </tr>\n",
       "    <tr>\n",
       "      <th>25359</th>\n",
       "      <td>Ngày 13.4, Công an huyện Cam Lộ (tỉnh Quảng Tr...</td>\n",
       "      <td>Trước đó, cuối tháng 3.2017, anh Trần Văn Linh...</td>\n",
       "      <td>Trước đó , cuối tháng 3.2017 , anh Trần_Văn_Li...</td>\n",
       "      <td>Ngày 13.4 , Công_an huyện Cam_Lộ ( tỉnh Quảng_...</td>\n",
       "      <td>haianhjobs_laodong</td>\n",
       "    </tr>\n",
       "    <tr>\n",
       "      <th>25360</th>\n",
       "      <td>Ngày 13.4, Công an huyện Vĩnh Cửu đã tạm giữ P...</td>\n",
       "      <td>Thông tin ban đầu, tối 12.4, sau khi nhậu xong...</td>\n",
       "      <td>Thông_tin ban_đầu , tối 12.4 , sau khi nhậu xo...</td>\n",
       "      <td>Ngày 13.4 , Công_an huyện Vĩnh_Cửu đã tạm giữ ...</td>\n",
       "      <td>haianhjobs_laodong</td>\n",
       "    </tr>\n",
       "    <tr>\n",
       "      <th>25361</th>\n",
       "      <td>Cơ quan Cảnh sát điều tra huyện Hoài Nhơn (Bìn...</td>\n",
       "      <td>Thông tin từ Công an Hoài Nhơn cũng cho biết, ...</td>\n",
       "      <td>Thông_tin từ Công_an Hoài_Nhơn cũng cho biết ,...</td>\n",
       "      <td>Cơ_quan Cảnh_sát điều_tra huyện Hoài_Nhơn ( Bì...</td>\n",
       "      <td>haianhjobs_laodong</td>\n",
       "    </tr>\n",
       "    <tr>\n",
       "      <th>25362</th>\n",
       "      <td>Theo quy định của Luật Bảo hiểm xã hội năm 201...</td>\n",
       "      <td>Bạn N.A.N - Email: ngocanh20289@xxx hỏi: Mẹ củ...</td>\n",
       "      <td>Bạn N.A.N - Email : ngocanh20289@xxx hỏi :  Mẹ...</td>\n",
       "      <td>Theo quy_định của Luật Bảo_hiểm_xã_hội năm 201...</td>\n",
       "      <td>haianhjobs_laodong</td>\n",
       "    </tr>\n",
       "    <tr>\n",
       "      <th>25363</th>\n",
       "      <td>Ngày  13.4, Công an tỉnh Thanh Hóa cho hay, vụ...</td>\n",
       "      <td>Chị P.T.L - mẹ bé gái - cho hay, sự việc xảy r...</td>\n",
       "      <td>Chị P.T.L - mẹ bé gái - cho_hay , sự_việc xảy ...</td>\n",
       "      <td>Ngày  13.4 , Công_an tỉnh Thanh_Hoá cho_hay , ...</td>\n",
       "      <td>haianhjobs_laodong</td>\n",
       "    </tr>\n",
       "  </tbody>\n",
       "</table>\n",
       "<p>25364 rows × 5 columns</p>\n",
       "</div>"
      ],
      "text/plain": [
       "                                                 Summary  \\\n",
       "0      Có thể nói chưa khi nào tình trạng “loạn lạc” ...   \n",
       "1      Ngày 26.9, Cơ quan CSĐT Công an TP Hồ Chí Minh...   \n",
       "2      Ngày 25.9, Cơ quan cảnh sát điều tra Công an T...   \n",
       "3      Đã có 900 người tố cáo Chủ tịch Hội đồng quản ...   \n",
       "4      Ngày 23.9, Cơ quan Cảnh sát điều tra (CSĐT) Cô...   \n",
       "...                                                  ...   \n",
       "25359  Ngày 13.4, Công an huyện Cam Lộ (tỉnh Quảng Tr...   \n",
       "25360  Ngày 13.4, Công an huyện Vĩnh Cửu đã tạm giữ P...   \n",
       "25361  Cơ quan Cảnh sát điều tra huyện Hoài Nhơn (Bìn...   \n",
       "25362  Theo quy định của Luật Bảo hiểm xã hội năm 201...   \n",
       "25363  Ngày  13.4, Công an tỉnh Thanh Hóa cho hay, vụ...   \n",
       "\n",
       "                                                Document  \\\n",
       "0      Như Lao Động đã đưa tin, 2 tháng nay, hàng chụ...   \n",
       "1      Mở rộng điều tra vụ án Công ty Alibaba lừa đảo...   \n",
       "2      Cơ quan điều tra xác minh, xác định tất cả các...   \n",
       "3      Tính đến ngày 24.9, Cơ quan Cảnh sát điều tra ...   \n",
       "4      Trước đó, ngày 18.9, Cơ quan CSĐT Công an TP H...   \n",
       "...                                                  ...   \n",
       "25359  Trước đó, cuối tháng 3.2017, anh Trần Văn Linh...   \n",
       "25360  Thông tin ban đầu, tối 12.4, sau khi nhậu xong...   \n",
       "25361  Thông tin từ Công an Hoài Nhơn cũng cho biết, ...   \n",
       "25362  Bạn N.A.N - Email: ngocanh20289@xxx hỏi: Mẹ củ...   \n",
       "25363  Chị P.T.L - mẹ bé gái - cho hay, sự việc xảy r...   \n",
       "\n",
       "                                      Segmented_document  \\\n",
       "0      Như Lao_Động đã đưa tin , 2 tháng nay , hàng c...   \n",
       "1      Mở_rộng điều_tra vụ án Công ty Alibaba lừa đảo...   \n",
       "2      Cơ_quan điều_tra xác_minh , xác_định tất_cả cá...   \n",
       "3      Tính đến ngày 24.9 , Cơ_quan Cảnh_sát điều_tra...   \n",
       "4      Trước đó , ngày 18.9 , Cơ_quan CSĐT Công_an TP...   \n",
       "...                                                  ...   \n",
       "25359  Trước đó , cuối tháng 3.2017 , anh Trần_Văn_Li...   \n",
       "25360  Thông_tin ban_đầu , tối 12.4 , sau khi nhậu xo...   \n",
       "25361  Thông_tin từ Công_an Hoài_Nhơn cũng cho biết ,...   \n",
       "25362  Bạn N.A.N - Email : ngocanh20289@xxx hỏi :  Mẹ...   \n",
       "25363  Chị P.T.L - mẹ bé gái - cho_hay , sự_việc xảy ...   \n",
       "\n",
       "                                       Segmented_summary             Dataset  \n",
       "0      Có_thể nói chưa khi nào tình_trạng “ loạn_lạc ...  haianhjobs_laodong  \n",
       "1      Ngày 26.9 , Cơ_quan CSĐT Công_an TP Hồ_Chí_Min...  haianhjobs_laodong  \n",
       "2      Ngày 25.9 , Cơ_quan cảnh_sát điều_tra Công_an ...  haianhjobs_laodong  \n",
       "3      Đã có 900 người tố_cáo Chủ_tịch Hội_đồng_quản_...  haianhjobs_laodong  \n",
       "4      Ngày 23.9 , Cơ_quan Cảnh_sát điều_tra ( CSĐT )...  haianhjobs_laodong  \n",
       "...                                                  ...                 ...  \n",
       "25359  Ngày 13.4 , Công_an huyện Cam_Lộ ( tỉnh Quảng_...  haianhjobs_laodong  \n",
       "25360  Ngày 13.4 , Công_an huyện Vĩnh_Cửu đã tạm giữ ...  haianhjobs_laodong  \n",
       "25361  Cơ_quan Cảnh_sát điều_tra huyện Hoài_Nhơn ( Bì...  haianhjobs_laodong  \n",
       "25362  Theo quy_định của Luật Bảo_hiểm_xã_hội năm 201...  haianhjobs_laodong  \n",
       "25363  Ngày  13.4 , Công_an tỉnh Thanh_Hoá cho_hay , ...  haianhjobs_laodong  \n",
       "\n",
       "[25364 rows x 5 columns]"
      ]
     },
     "execution_count": 15,
     "metadata": {},
     "output_type": "execute_result"
    }
   ],
   "source": [
    "haianhjob"
   ]
  },
  {
   "cell_type": "code",
   "execution_count": 22,
   "metadata": {},
   "outputs": [
    {
     "data": {
      "text/plain": [
       "Index(['Document', 'Summary', 'Segmented_document', 'Segmented_summary',\n",
       "       'Dataset'],\n",
       "      dtype='object')"
      ]
     },
     "execution_count": 22,
     "metadata": {},
     "output_type": "execute_result"
    }
   ],
   "source": [
    "haianhjob = haianhjob.reindex(columns=['Document', 'Summary', 'Segmented_document', 'Segmented_summary', 'Dataset'])\n",
    "haianhjob.columns"
   ]
  },
  {
   "cell_type": "code",
   "execution_count": 35,
   "metadata": {},
   "outputs": [
    {
     "data": {
      "text/plain": [
       "(25278, 5)"
      ]
     },
     "execution_count": 35,
     "metadata": {},
     "output_type": "execute_result"
    }
   ],
   "source": [
    "mask = haianhjob['Summary'].str.contains('Cùng báo Lao Động', case=False)\n",
    "\n",
    "haianhjob = haianhjob[~mask]\n",
    "haianhjob.shape"
   ]
  },
  {
   "cell_type": "code",
   "execution_count": 19,
   "metadata": {},
   "outputs": [],
   "source": [
    "df_vims = pd.read_csv(r\"G:\\g\\Hoc\\2023.2\\Dataset_NLP\\vims_law.csv\")"
   ]
  },
  {
   "cell_type": "code",
   "execution_count": 20,
   "metadata": {},
   "outputs": [
    {
     "data": {
      "text/plain": [
       "Index(['Document', 'Summary', 'Segmented_document', 'Segmented_summary',\n",
       "       'Dataset'],\n",
       "      dtype='object')"
      ]
     },
     "execution_count": 20,
     "metadata": {},
     "output_type": "execute_result"
    }
   ],
   "source": [
    "df_vims.drop(columns=[\"Unnamed: 0\"], inplace=True)\n",
    "df_vims.columns"
   ]
  },
  {
   "cell_type": "code",
   "execution_count": 23,
   "metadata": {},
   "outputs": [],
   "source": [
    "df_vnds = pd.read_csv(r\"G:\\g\\Hoc\\2023.2\\Dataset_NLP\\vnds_law.csv\")"
   ]
  },
  {
   "cell_type": "code",
   "execution_count": 26,
   "metadata": {},
   "outputs": [
    {
     "data": {
      "text/plain": [
       "Index(['Document', 'Summary', 'Segmented_document', 'Segmented_summary',\n",
       "       'Dataset'],\n",
       "      dtype='object')"
      ]
     },
     "execution_count": 26,
     "metadata": {},
     "output_type": "execute_result"
    }
   ],
   "source": [
    "df_vnds.drop(columns=[\"Unnamed: 0\"], inplace=True)\n",
    "df_vnds = df_vnds.reindex(columns=['Document', 'Summary', 'Segmented_document', 'Segmented_summary', 'Dataset'])\n",
    "df_vnds.columns"
   ]
  },
  {
   "cell_type": "code",
   "execution_count": 40,
   "metadata": {},
   "outputs": [],
   "source": [
    "merged_df = pd.concat([haianhjob, df_vims, df_vnds])"
   ]
  },
  {
   "cell_type": "code",
   "execution_count": null,
   "metadata": {},
   "outputs": [
    {
     "name": "stdout",
     "output_type": "stream",
     "text": [
      "52396\n",
      "<class 'pandas.core.frame.DataFrame'>\n",
      "RangeIndex: 52396 entries, 0 to 52395\n",
      "Data columns (total 5 columns):\n",
      " #   Column              Non-Null Count  Dtype \n",
      "---  ------              --------------  ----- \n",
      " 0   Document            52396 non-null  object\n",
      " 1   Summary             52396 non-null  object\n",
      " 2   Segmented_document  52396 non-null  object\n",
      " 3   Segmented_summary   52396 non-null  object\n",
      " 4   Dataset             52396 non-null  object\n",
      "dtypes: object(5)\n",
      "memory usage: 2.0+ MB\n",
      "None\n"
     ]
    },
    {
     "data": {
      "text/html": [
       "<div>\n",
       "<style scoped>\n",
       "    .dataframe tbody tr th:only-of-type {\n",
       "        vertical-align: middle;\n",
       "    }\n",
       "\n",
       "    .dataframe tbody tr th {\n",
       "        vertical-align: top;\n",
       "    }\n",
       "\n",
       "    .dataframe thead th {\n",
       "        text-align: right;\n",
       "    }\n",
       "</style>\n",
       "<table border=\"1\" class=\"dataframe\">\n",
       "  <thead>\n",
       "    <tr style=\"text-align: right;\">\n",
       "      <th></th>\n",
       "      <th>Document</th>\n",
       "      <th>Summary</th>\n",
       "      <th>Segmented_document</th>\n",
       "      <th>Segmented_summary</th>\n",
       "      <th>Dataset</th>\n",
       "    </tr>\n",
       "  </thead>\n",
       "  <tbody>\n",
       "    <tr>\n",
       "      <th>0</th>\n",
       "      <td>Như Lao Động đã đưa tin, 2 tháng nay, hàng chụ...</td>\n",
       "      <td>Có thể nói chưa khi nào tình trạng “loạn lạc” ...</td>\n",
       "      <td>Như Lao_Động đã đưa tin , 2 tháng nay , hàng c...</td>\n",
       "      <td>Có_thể nói chưa khi nào tình_trạng “ loạn_lạc ...</td>\n",
       "      <td>haianhjobs_laodong</td>\n",
       "    </tr>\n",
       "    <tr>\n",
       "      <th>1</th>\n",
       "      <td>Mở rộng điều tra vụ án Công ty Alibaba lừa đảo...</td>\n",
       "      <td>Ngày 26.9, Cơ quan CSĐT Công an TP Hồ Chí Minh...</td>\n",
       "      <td>Mở_rộng điều_tra vụ án Công ty Alibaba lừa đảo...</td>\n",
       "      <td>Ngày 26.9 , Cơ_quan CSĐT Công_an TP Hồ_Chí_Min...</td>\n",
       "      <td>haianhjobs_laodong</td>\n",
       "    </tr>\n",
       "    <tr>\n",
       "      <th>2</th>\n",
       "      <td>Cơ quan điều tra xác minh, xác định tất cả các...</td>\n",
       "      <td>Ngày 25.9, Cơ quan cảnh sát điều tra Công an T...</td>\n",
       "      <td>Cơ_quan điều_tra xác_minh , xác_định tất_cả cá...</td>\n",
       "      <td>Ngày 25.9 , Cơ_quan cảnh_sát điều_tra Công_an ...</td>\n",
       "      <td>haianhjobs_laodong</td>\n",
       "    </tr>\n",
       "    <tr>\n",
       "      <th>3</th>\n",
       "      <td>Tính đến ngày 24.9, Cơ quan Cảnh sát điều tra ...</td>\n",
       "      <td>Đã có 900 người tố cáo Chủ tịch Hội đồng quản ...</td>\n",
       "      <td>Tính đến ngày 24.9 , Cơ_quan Cảnh_sát điều_tra...</td>\n",
       "      <td>Đã có 900 người tố_cáo Chủ_tịch Hội_đồng_quản_...</td>\n",
       "      <td>haianhjobs_laodong</td>\n",
       "    </tr>\n",
       "    <tr>\n",
       "      <th>4</th>\n",
       "      <td>Trước đó, ngày 18.9, Cơ quan CSĐT Công an TP H...</td>\n",
       "      <td>Ngày 23.9, Cơ quan Cảnh sát điều tra (CSĐT) Cô...</td>\n",
       "      <td>Trước đó , ngày 18.9 , Cơ_quan CSĐT Công_an TP...</td>\n",
       "      <td>Ngày 23.9 , Cơ_quan Cảnh_sát điều_tra ( CSĐT )...</td>\n",
       "      <td>haianhjobs_laodong</td>\n",
       "    </tr>\n",
       "  </tbody>\n",
       "</table>\n",
       "</div>"
      ],
      "text/plain": [
       "                                            Document  \\\n",
       "0  Như Lao Động đã đưa tin, 2 tháng nay, hàng chụ...   \n",
       "1  Mở rộng điều tra vụ án Công ty Alibaba lừa đảo...   \n",
       "2  Cơ quan điều tra xác minh, xác định tất cả các...   \n",
       "3  Tính đến ngày 24.9, Cơ quan Cảnh sát điều tra ...   \n",
       "4  Trước đó, ngày 18.9, Cơ quan CSĐT Công an TP H...   \n",
       "\n",
       "                                             Summary  \\\n",
       "0  Có thể nói chưa khi nào tình trạng “loạn lạc” ...   \n",
       "1  Ngày 26.9, Cơ quan CSĐT Công an TP Hồ Chí Minh...   \n",
       "2  Ngày 25.9, Cơ quan cảnh sát điều tra Công an T...   \n",
       "3  Đã có 900 người tố cáo Chủ tịch Hội đồng quản ...   \n",
       "4  Ngày 23.9, Cơ quan Cảnh sát điều tra (CSĐT) Cô...   \n",
       "\n",
       "                                  Segmented_document  \\\n",
       "0  Như Lao_Động đã đưa tin , 2 tháng nay , hàng c...   \n",
       "1  Mở_rộng điều_tra vụ án Công ty Alibaba lừa đảo...   \n",
       "2  Cơ_quan điều_tra xác_minh , xác_định tất_cả cá...   \n",
       "3  Tính đến ngày 24.9 , Cơ_quan Cảnh_sát điều_tra...   \n",
       "4  Trước đó , ngày 18.9 , Cơ_quan CSĐT Công_an TP...   \n",
       "\n",
       "                                   Segmented_summary             Dataset  \n",
       "0  Có_thể nói chưa khi nào tình_trạng “ loạn_lạc ...  haianhjobs_laodong  \n",
       "1  Ngày 26.9 , Cơ_quan CSĐT Công_an TP Hồ_Chí_Min...  haianhjobs_laodong  \n",
       "2  Ngày 25.9 , Cơ_quan cảnh_sát điều_tra Công_an ...  haianhjobs_laodong  \n",
       "3  Đã có 900 người tố_cáo Chủ_tịch Hội_đồng_quản_...  haianhjobs_laodong  \n",
       "4  Ngày 23.9 , Cơ_quan Cảnh_sát điều_tra ( CSĐT )...  haianhjobs_laodong  "
      ]
     },
     "execution_count": 41,
     "metadata": {},
     "output_type": "execute_result"
    }
   ],
   "source": [
    "\n",
    "print(len(merged_df))\n",
    "# Reset index\n",
    "merged_df.reset_index(drop=True, inplace=True)\n",
    "\n",
    "\n",
    "print(merged_df.info())\n",
    "\n",
    "\n",
    "merged_df.head()"
   ]
  },
  {
   "cell_type": "code",
   "execution_count": null,
   "metadata": {},
   "outputs": [],
   "source": [
    "merged_df.to_csv(\"final_law.csv\")"
   ]
  },
  {
   "cell_type": "code",
   "execution_count": null,
   "metadata": {},
   "outputs": [],
   "source": [
    "\n",
    "merged_df.to_parquet(\"merged_data.parquet\")\n"
   ]
  }
 ],
 "metadata": {
  "kernelspec": {
   "display_name": "Python 3",
   "language": "python",
   "name": "python3"
  },
  "language_info": {
   "codemirror_mode": {
    "name": "ipython",
    "version": 3
   },
   "file_extension": ".py",
   "mimetype": "text/x-python",
   "name": "python",
   "nbconvert_exporter": "python",
   "pygments_lexer": "ipython3",
   "version": "3.9.11"
  }
 },
 "nbformat": 4,
 "nbformat_minor": 2
}
