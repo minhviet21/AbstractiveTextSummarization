{
  "cells": [
    {
      "cell_type": "code",
      "execution_count": 1,
      "metadata": {},
      "outputs": [
        {
          "name": "stdout",
          "output_type": "stream",
          "text": [
            "Requirement already satisfied: datasets in c:\\users\\doanh\\appdata\\local\\programs\\python\\python39\\lib\\site-packages (2.18.0)\n",
            "Requirement already satisfied: pyyaml>=5.1 in c:\\users\\doanh\\appdata\\local\\programs\\python\\python39\\lib\\site-packages (from datasets) (5.4.1)\n",
            "Requirement already satisfied: pyarrow>=12.0.0 in c:\\users\\doanh\\appdata\\local\\programs\\python\\python39\\lib\\site-packages (from datasets) (15.0.0)\n",
            "Requirement already satisfied: requests>=2.19.0 in c:\\users\\doanh\\appdata\\local\\programs\\python\\python39\\lib\\site-packages (from datasets) (2.31.0)\n",
            "Requirement already satisfied: aiohttp in c:\\users\\doanh\\appdata\\local\\programs\\python\\python39\\lib\\site-packages (from datasets) (3.9.3)\n",
            "Requirement already satisfied: tqdm>=4.62.1 in c:\\users\\doanh\\appdata\\local\\programs\\python\\python39\\lib\\site-packages (from datasets) (4.66.2)\n",
            "Requirement already satisfied: fsspec[http]<=2024.2.0,>=2023.1.0 in c:\\users\\doanh\\appdata\\local\\programs\\python\\python39\\lib\\site-packages (from datasets) (2023.12.2)\n",
            "Requirement already satisfied: packaging in c:\\users\\doanh\\appdata\\roaming\\python\\python39\\site-packages (from datasets) (23.2)\n",
            "Requirement already satisfied: pyarrow-hotfix in c:\\users\\doanh\\appdata\\local\\programs\\python\\python39\\lib\\site-packages (from datasets) (0.6)\n",
            "Requirement already satisfied: multiprocess in c:\\users\\doanh\\appdata\\local\\programs\\python\\python39\\lib\\site-packages (from datasets) (0.70.16)\n",
            "Requirement already satisfied: huggingface-hub>=0.19.4 in c:\\users\\doanh\\appdata\\local\\programs\\python\\python39\\lib\\site-packages (from datasets) (0.20.2)\n",
            "Requirement already satisfied: dill<0.3.9,>=0.3.0 in c:\\users\\doanh\\appdata\\local\\programs\\python\\python39\\lib\\site-packages (from datasets) (0.3.8)\n",
            "Requirement already satisfied: pandas in c:\\users\\doanh\\appdata\\local\\programs\\python\\python39\\lib\\site-packages (from datasets) (2.1.4)\n",
            "Requirement already satisfied: numpy>=1.17 in c:\\users\\doanh\\appdata\\local\\programs\\python\\python39\\lib\\site-packages (from datasets) (1.26.3)\n",
            "Requirement already satisfied: filelock in c:\\users\\doanh\\appdata\\local\\programs\\python\\python39\\lib\\site-packages (from datasets) (3.9.0)\n",
            "Requirement already satisfied: xxhash in c:\\users\\doanh\\appdata\\local\\programs\\python\\python39\\lib\\site-packages (from datasets) (3.4.1)\n",
            "Requirement already satisfied: attrs>=17.3.0 in c:\\users\\doanh\\appdata\\local\\programs\\python\\python39\\lib\\site-packages (from aiohttp->datasets) (23.2.0)\n",
            "Requirement already satisfied: frozenlist>=1.1.1 in c:\\users\\doanh\\appdata\\local\\programs\\python\\python39\\lib\\site-packages (from aiohttp->datasets) (1.4.1)\n",
            "Requirement already satisfied: async-timeout<5.0,>=4.0 in c:\\users\\doanh\\appdata\\local\\programs\\python\\python39\\lib\\site-packages (from aiohttp->datasets) (4.0.3)\n",
            "Requirement already satisfied: aiosignal>=1.1.2 in c:\\users\\doanh\\appdata\\local\\programs\\python\\python39\\lib\\site-packages (from aiohttp->datasets) (1.3.1)\n",
            "Requirement already satisfied: multidict<7.0,>=4.5 in c:\\users\\doanh\\appdata\\local\\programs\\python\\python39\\lib\\site-packages (from aiohttp->datasets) (6.0.5)\n",
            "Requirement already satisfied: yarl<2.0,>=1.0 in c:\\users\\doanh\\appdata\\local\\programs\\python\\python39\\lib\\site-packages (from aiohttp->datasets) (1.9.4)\n",
            "Requirement already satisfied: typing-extensions>=3.7.4.3 in c:\\users\\doanh\\appdata\\roaming\\python\\python39\\site-packages (from huggingface-hub>=0.19.4->datasets) (4.9.0)\n",
            "Requirement already satisfied: certifi>=2017.4.17 in c:\\users\\doanh\\appdata\\local\\programs\\python\\python39\\lib\\site-packages (from requests>=2.19.0->datasets) (2023.11.17)\n",
            "Requirement already satisfied: charset-normalizer<4,>=2 in c:\\users\\doanh\\appdata\\local\\programs\\python\\python39\\lib\\site-packages (from requests>=2.19.0->datasets) (3.3.2)\n",
            "Requirement already satisfied: idna<4,>=2.5 in c:\\users\\doanh\\appdata\\local\\programs\\python\\python39\\lib\\site-packages (from requests>=2.19.0->datasets) (3.6)\n",
            "Requirement already satisfied: urllib3<3,>=1.21.1 in c:\\users\\doanh\\appdata\\local\\programs\\python\\python39\\lib\\site-packages (from requests>=2.19.0->datasets) (1.26.18)\n",
            "Requirement already satisfied: colorama in c:\\users\\doanh\\appdata\\roaming\\python\\python39\\site-packages (from tqdm>=4.62.1->datasets) (0.4.6)\n",
            "Requirement already satisfied: pytz>=2020.1 in c:\\users\\doanh\\appdata\\local\\programs\\python\\python39\\lib\\site-packages (from pandas->datasets) (2023.3.post1)\n",
            "Requirement already satisfied: python-dateutil>=2.8.2 in c:\\users\\doanh\\appdata\\local\\programs\\python\\python39\\lib\\site-packages (from pandas->datasets) (2.8.2)\n",
            "Requirement already satisfied: tzdata>=2022.1 in c:\\users\\doanh\\appdata\\local\\programs\\python\\python39\\lib\\site-packages (from pandas->datasets) (2023.4)\n",
            "Requirement already satisfied: six>=1.5 in c:\\users\\doanh\\appdata\\local\\programs\\python\\python39\\lib\\site-packages (from python-dateutil>=2.8.2->pandas->datasets) (1.16.0)\n"
          ]
        },
        {
          "name": "stderr",
          "output_type": "stream",
          "text": [
            "WARNING: You are using pip version 22.0.4; however, version 24.0 is available.\n",
            "You should consider upgrading via the 'C:\\Users\\doanh\\AppData\\Local\\Programs\\Python\\Python39\\python.exe -m pip install --upgrade pip' command.\n"
          ]
        }
      ],
      "source": [
        "!pip install datasets"
      ]
    },
    {
      "cell_type": "code",
      "execution_count": 2,
      "metadata": {
        "colab": {
          "base_uri": "https://localhost:8080/"
        },
        "execution": {
          "iopub.execute_input": "2023-06-22T16:51:46.257771Z",
          "iopub.status.busy": "2023-06-22T16:51:46.257313Z",
          "iopub.status.idle": "2023-06-22T16:53:01.203331Z",
          "shell.execute_reply": "2023-06-22T16:53:01.202123Z",
          "shell.execute_reply.started": "2023-06-22T16:51:46.257741Z"
        },
        "id": "7KsjNBpFVQob",
        "outputId": "226df796-360b-4855-f7ef-f07eb9c16759",
        "trusted": true
      },
      "outputs": [
        {
          "name": "stdout",
          "output_type": "stream",
          "text": [
            "Requirement already satisfied: gradio in c:\\users\\doanh\\appdata\\local\\programs\\python\\python39\\lib\\site-packages (4.20.0)\n",
            "Requirement already satisfied: typer[all]<1.0,>=0.9 in c:\\users\\doanh\\appdata\\local\\programs\\python\\python39\\lib\\site-packages (from gradio) (0.9.0)\n",
            "Requirement already satisfied: aiofiles<24.0,>=22.0 in c:\\users\\doanh\\appdata\\local\\programs\\python\\python39\\lib\\site-packages (from gradio) (23.2.1)\n",
            "Requirement already satisfied: typing-extensions~=4.0 in c:\\users\\doanh\\appdata\\roaming\\python\\python39\\site-packages (from gradio) (4.9.0)\n",
            "Requirement already satisfied: jinja2<4.0 in c:\\users\\doanh\\appdata\\local\\programs\\python\\python39\\lib\\site-packages (from gradio) (3.1.2)\n",
            "Requirement already satisfied: altair<6.0,>=4.2.0 in c:\\users\\doanh\\appdata\\local\\programs\\python\\python39\\lib\\site-packages (from gradio) (5.2.0)\n",
            "Requirement already satisfied: pyyaml<7.0,>=5.0 in c:\\users\\doanh\\appdata\\local\\programs\\python\\python39\\lib\\site-packages (from gradio) (5.4.1)\n",
            "Requirement already satisfied: semantic-version~=2.0 in c:\\users\\doanh\\appdata\\local\\programs\\python\\python39\\lib\\site-packages (from gradio) (2.10.0)\n",
            "Requirement already satisfied: tomlkit==0.12.0 in c:\\users\\doanh\\appdata\\local\\programs\\python\\python39\\lib\\site-packages (from gradio) (0.12.0)\n",
            "Requirement already satisfied: markupsafe~=2.0 in c:\\users\\doanh\\appdata\\local\\programs\\python\\python39\\lib\\site-packages (from gradio) (2.1.3)\n",
            "Requirement already satisfied: orjson~=3.0 in c:\\users\\doanh\\appdata\\local\\programs\\python\\python39\\lib\\site-packages (from gradio) (3.9.15)\n",
            "Requirement already satisfied: importlib-resources<7.0,>=1.3 in c:\\users\\doanh\\appdata\\local\\programs\\python\\python39\\lib\\site-packages (from gradio) (6.1.1)\n",
            "Requirement already satisfied: pydantic>=2.0 in c:\\users\\doanh\\appdata\\local\\programs\\python\\python39\\lib\\site-packages (from gradio) (2.6.3)\n",
            "Requirement already satisfied: fastapi in c:\\users\\doanh\\appdata\\local\\programs\\python\\python39\\lib\\site-packages (from gradio) (0.110.0)\n",
            "Requirement already satisfied: python-multipart>=0.0.9 in c:\\users\\doanh\\appdata\\local\\programs\\python\\python39\\lib\\site-packages (from gradio) (0.0.9)\n",
            "Requirement already satisfied: pydub in c:\\users\\doanh\\appdata\\local\\programs\\python\\python39\\lib\\site-packages (from gradio) (0.25.1)\n",
            "Requirement already satisfied: gradio-client==0.11.0 in c:\\users\\doanh\\appdata\\local\\programs\\python\\python39\\lib\\site-packages (from gradio) (0.11.0)\n",
            "Requirement already satisfied: httpx>=0.24.1 in c:\\users\\doanh\\appdata\\local\\programs\\python\\python39\\lib\\site-packages (from gradio) (0.27.0)\n",
            "Requirement already satisfied: pillow<11.0,>=8.0 in c:\\users\\doanh\\appdata\\local\\programs\\python\\python39\\lib\\site-packages (from gradio) (10.2.0)\n",
            "Requirement already satisfied: ffmpy in c:\\users\\doanh\\appdata\\local\\programs\\python\\python39\\lib\\site-packages (from gradio) (0.3.2)\n",
            "Requirement already satisfied: packaging in c:\\users\\doanh\\appdata\\roaming\\python\\python39\\site-packages (from gradio) (23.2)\n",
            "Requirement already satisfied: huggingface-hub>=0.19.3 in c:\\users\\doanh\\appdata\\local\\programs\\python\\python39\\lib\\site-packages (from gradio) (0.20.2)\n",
            "Requirement already satisfied: pandas<3.0,>=1.0 in c:\\users\\doanh\\appdata\\local\\programs\\python\\python39\\lib\\site-packages (from gradio) (2.1.4)\n",
            "Requirement already satisfied: matplotlib~=3.0 in c:\\users\\doanh\\appdata\\local\\programs\\python\\python39\\lib\\site-packages (from gradio) (3.3.3)\n",
            "Requirement already satisfied: numpy~=1.0 in c:\\users\\doanh\\appdata\\local\\programs\\python\\python39\\lib\\site-packages (from gradio) (1.26.3)\n",
            "Requirement already satisfied: ruff>=0.2.2 in c:\\users\\doanh\\appdata\\local\\programs\\python\\python39\\lib\\site-packages (from gradio) (0.3.0)\n",
            "Requirement already satisfied: uvicorn>=0.14.0 in c:\\users\\doanh\\appdata\\local\\programs\\python\\python39\\lib\\site-packages (from gradio) (0.27.1)\n",
            "Requirement already satisfied: websockets<12.0,>=10.0 in c:\\users\\doanh\\appdata\\local\\programs\\python\\python39\\lib\\site-packages (from gradio-client==0.11.0->gradio) (11.0.3)\n",
            "Requirement already satisfied: fsspec in c:\\users\\doanh\\appdata\\local\\programs\\python\\python39\\lib\\site-packages (from gradio-client==0.11.0->gradio) (2023.12.2)\n",
            "Requirement already satisfied: toolz in c:\\users\\doanh\\appdata\\local\\programs\\python\\python39\\lib\\site-packages (from altair<6.0,>=4.2.0->gradio) (0.12.1)\n",
            "Requirement already satisfied: jsonschema>=3.0 in c:\\users\\doanh\\appdata\\local\\programs\\python\\python39\\lib\\site-packages (from altair<6.0,>=4.2.0->gradio) (4.21.1)\n",
            "Requirement already satisfied: httpcore==1.* in c:\\users\\doanh\\appdata\\local\\programs\\python\\python39\\lib\\site-packages (from httpx>=0.24.1->gradio) (1.0.4)\n",
            "Requirement already satisfied: sniffio in c:\\users\\doanh\\appdata\\local\\programs\\python\\python39\\lib\\site-packages (from httpx>=0.24.1->gradio) (1.3.1)\n",
            "Requirement already satisfied: idna in c:\\users\\doanh\\appdata\\local\\programs\\python\\python39\\lib\\site-packages (from httpx>=0.24.1->gradio) (3.6)\n",
            "Requirement already satisfied: anyio in c:\\users\\doanh\\appdata\\local\\programs\\python\\python39\\lib\\site-packages (from httpx>=0.24.1->gradio) (4.3.0)\n",
            "Requirement already satisfied: certifi in c:\\users\\doanh\\appdata\\local\\programs\\python\\python39\\lib\\site-packages (from httpx>=0.24.1->gradio) (2023.11.17)\n",
            "Requirement already satisfied: h11<0.15,>=0.13 in c:\\users\\doanh\\appdata\\local\\programs\\python\\python39\\lib\\site-packages (from httpcore==1.*->httpx>=0.24.1->gradio) (0.14.0)\n",
            "Requirement already satisfied: filelock in c:\\users\\doanh\\appdata\\local\\programs\\python\\python39\\lib\\site-packages (from huggingface-hub>=0.19.3->gradio) (3.9.0)\n",
            "Requirement already satisfied: requests in c:\\users\\doanh\\appdata\\local\\programs\\python\\python39\\lib\\site-packages (from huggingface-hub>=0.19.3->gradio) (2.31.0)\n",
            "Requirement already satisfied: tqdm>=4.42.1 in c:\\users\\doanh\\appdata\\local\\programs\\python\\python39\\lib\\site-packages (from huggingface-hub>=0.19.3->gradio) (4.66.2)\n",
            "Requirement already satisfied: zipp>=3.1.0 in c:\\users\\doanh\\appdata\\roaming\\python\\python39\\site-packages (from importlib-resources<7.0,>=1.3->gradio) (3.17.0)\n",
            "Requirement already satisfied: cycler>=0.10 in c:\\users\\doanh\\appdata\\local\\programs\\python\\python39\\lib\\site-packages (from matplotlib~=3.0->gradio) (0.12.1)\n",
            "Requirement already satisfied: kiwisolver>=1.0.1 in c:\\users\\doanh\\appdata\\local\\programs\\python\\python39\\lib\\site-packages (from matplotlib~=3.0->gradio) (1.4.5)\n",
            "Requirement already satisfied: python-dateutil>=2.1 in c:\\users\\doanh\\appdata\\local\\programs\\python\\python39\\lib\\site-packages (from matplotlib~=3.0->gradio) (2.8.2)\n",
            "Requirement already satisfied: pyparsing!=2.0.4,!=2.1.2,!=2.1.6,>=2.0.3 in c:\\users\\doanh\\appdata\\local\\programs\\python\\python39\\lib\\site-packages (from matplotlib~=3.0->gradio) (3.1.1)\n",
            "Requirement already satisfied: pytz>=2020.1 in c:\\users\\doanh\\appdata\\local\\programs\\python\\python39\\lib\\site-packages (from pandas<3.0,>=1.0->gradio) (2023.3.post1)\n",
            "Requirement already satisfied: tzdata>=2022.1 in c:\\users\\doanh\\appdata\\local\\programs\\python\\python39\\lib\\site-packages (from pandas<3.0,>=1.0->gradio) (2023.4)\n",
            "Requirement already satisfied: annotated-types>=0.4.0 in c:\\users\\doanh\\appdata\\local\\programs\\python\\python39\\lib\\site-packages (from pydantic>=2.0->gradio) (0.6.0)\n",
            "Requirement already satisfied: pydantic-core==2.16.3 in c:\\users\\doanh\\appdata\\local\\programs\\python\\python39\\lib\\site-packages (from pydantic>=2.0->gradio) (2.16.3)\n",
            "Requirement already satisfied: click<9.0.0,>=7.1.1 in c:\\users\\doanh\\appdata\\local\\programs\\python\\python39\\lib\\site-packages (from typer[all]<1.0,>=0.9->gradio) (8.1.7)\n",
            "Requirement already satisfied: shellingham<2.0.0,>=1.3.0 in c:\\users\\doanh\\appdata\\local\\programs\\python\\python39\\lib\\site-packages (from typer[all]<1.0,>=0.9->gradio) (1.5.4)\n",
            "Requirement already satisfied: rich<14.0.0,>=10.11.0 in c:\\users\\doanh\\appdata\\local\\programs\\python\\python39\\lib\\site-packages (from typer[all]<1.0,>=0.9->gradio) (13.7.1)\n",
            "Requirement already satisfied: colorama<0.5.0,>=0.4.3 in c:\\users\\doanh\\appdata\\roaming\\python\\python39\\site-packages (from typer[all]<1.0,>=0.9->gradio) (0.4.6)\n",
            "Requirement already satisfied: starlette<0.37.0,>=0.36.3 in c:\\users\\doanh\\appdata\\local\\programs\\python\\python39\\lib\\site-packages (from fastapi->gradio) (0.36.3)\n",
            "Requirement already satisfied: attrs>=22.2.0 in c:\\users\\doanh\\appdata\\local\\programs\\python\\python39\\lib\\site-packages (from jsonschema>=3.0->altair<6.0,>=4.2.0->gradio) (23.2.0)\n",
            "Requirement already satisfied: rpds-py>=0.7.1 in c:\\users\\doanh\\appdata\\local\\programs\\python\\python39\\lib\\site-packages (from jsonschema>=3.0->altair<6.0,>=4.2.0->gradio) (0.18.0)\n",
            "Requirement already satisfied: referencing>=0.28.4 in c:\\users\\doanh\\appdata\\local\\programs\\python\\python39\\lib\\site-packages (from jsonschema>=3.0->altair<6.0,>=4.2.0->gradio) (0.33.0)\n",
            "Requirement already satisfied: jsonschema-specifications>=2023.03.6 in c:\\users\\doanh\\appdata\\local\\programs\\python\\python39\\lib\\site-packages (from jsonschema>=3.0->altair<6.0,>=4.2.0->gradio) (2023.12.1)\n",
            "Requirement already satisfied: six>=1.5 in c:\\users\\doanh\\appdata\\local\\programs\\python\\python39\\lib\\site-packages (from python-dateutil>=2.1->matplotlib~=3.0->gradio) (1.16.0)\n",
            "Requirement already satisfied: pygments<3.0.0,>=2.13.0 in c:\\users\\doanh\\appdata\\roaming\\python\\python39\\site-packages (from rich<14.0.0,>=10.11.0->typer[all]<1.0,>=0.9->gradio) (2.17.2)\n",
            "Requirement already satisfied: markdown-it-py>=2.2.0 in c:\\users\\doanh\\appdata\\local\\programs\\python\\python39\\lib\\site-packages (from rich<14.0.0,>=10.11.0->typer[all]<1.0,>=0.9->gradio) (3.0.0)\n",
            "Requirement already satisfied: exceptiongroup>=1.0.2 in c:\\users\\doanh\\appdata\\roaming\\python\\python39\\site-packages (from anyio->httpx>=0.24.1->gradio) (1.2.0)\n",
            "Requirement already satisfied: charset-normalizer<4,>=2 in c:\\users\\doanh\\appdata\\local\\programs\\python\\python39\\lib\\site-packages (from requests->huggingface-hub>=0.19.3->gradio) (3.3.2)\n",
            "Requirement already satisfied: urllib3<3,>=1.21.1 in c:\\users\\doanh\\appdata\\local\\programs\\python\\python39\\lib\\site-packages (from requests->huggingface-hub>=0.19.3->gradio) (1.26.18)\n",
            "Requirement already satisfied: mdurl~=0.1 in c:\\users\\doanh\\appdata\\local\\programs\\python\\python39\\lib\\site-packages (from markdown-it-py>=2.2.0->rich<14.0.0,>=10.11.0->typer[all]<1.0,>=0.9->gradio) (0.1.2)\n"
          ]
        },
        {
          "name": "stderr",
          "output_type": "stream",
          "text": [
            "WARNING: You are using pip version 22.0.4; however, version 24.0 is available.\n",
            "You should consider upgrading via the 'C:\\Users\\doanh\\AppData\\Local\\Programs\\Python\\Python39\\python.exe -m pip install --upgrade pip' command.\n"
          ]
        },
        {
          "name": "stdout",
          "output_type": "stream",
          "text": [
            "Requirement already satisfied: transformers==4.28 in c:\\users\\doanh\\appdata\\local\\programs\\python\\python39\\lib\\site-packages (4.28.0)\n",
            "Requirement already satisfied: numpy>=1.17 in c:\\users\\doanh\\appdata\\local\\programs\\python\\python39\\lib\\site-packages (from transformers==4.28) (1.26.3)\n",
            "Requirement already satisfied: regex!=2019.12.17 in c:\\users\\doanh\\appdata\\local\\programs\\python\\python39\\lib\\site-packages (from transformers==4.28) (2023.12.25)\n",
            "Requirement already satisfied: requests in c:\\users\\doanh\\appdata\\local\\programs\\python\\python39\\lib\\site-packages (from transformers==4.28) (2.31.0)\n",
            "Requirement already satisfied: tqdm>=4.27 in c:\\users\\doanh\\appdata\\local\\programs\\python\\python39\\lib\\site-packages (from transformers==4.28) (4.66.2)\n",
            "Requirement already satisfied: tokenizers!=0.11.3,<0.14,>=0.11.1 in c:\\users\\doanh\\appdata\\local\\programs\\python\\python39\\lib\\site-packages (from transformers==4.28) (0.13.3)\n",
            "Requirement already satisfied: huggingface-hub<1.0,>=0.11.0 in c:\\users\\doanh\\appdata\\local\\programs\\python\\python39\\lib\\site-packages (from transformers==4.28) (0.20.2)\n",
            "Requirement already satisfied: filelock in c:\\users\\doanh\\appdata\\local\\programs\\python\\python39\\lib\\site-packages (from transformers==4.28) (3.9.0)\n",
            "Requirement already satisfied: pyyaml>=5.1 in c:\\users\\doanh\\appdata\\local\\programs\\python\\python39\\lib\\site-packages (from transformers==4.28) (5.4.1)\n",
            "Requirement already satisfied: packaging>=20.0 in c:\\users\\doanh\\appdata\\roaming\\python\\python39\\site-packages (from transformers==4.28) (23.2)\n",
            "Requirement already satisfied: typing-extensions>=3.7.4.3 in c:\\users\\doanh\\appdata\\roaming\\python\\python39\\site-packages (from huggingface-hub<1.0,>=0.11.0->transformers==4.28) (4.9.0)\n",
            "Requirement already satisfied: fsspec>=2023.5.0 in c:\\users\\doanh\\appdata\\local\\programs\\python\\python39\\lib\\site-packages (from huggingface-hub<1.0,>=0.11.0->transformers==4.28) (2023.12.2)\n",
            "Requirement already satisfied: colorama in c:\\users\\doanh\\appdata\\roaming\\python\\python39\\site-packages (from tqdm>=4.27->transformers==4.28) (0.4.6)\n",
            "Requirement already satisfied: certifi>=2017.4.17 in c:\\users\\doanh\\appdata\\local\\programs\\python\\python39\\lib\\site-packages (from requests->transformers==4.28) (2023.11.17)\n",
            "Requirement already satisfied: idna<4,>=2.5 in c:\\users\\doanh\\appdata\\local\\programs\\python\\python39\\lib\\site-packages (from requests->transformers==4.28) (3.6)\n",
            "Requirement already satisfied: charset-normalizer<4,>=2 in c:\\users\\doanh\\appdata\\local\\programs\\python\\python39\\lib\\site-packages (from requests->transformers==4.28) (3.3.2)\n",
            "Requirement already satisfied: urllib3<3,>=1.21.1 in c:\\users\\doanh\\appdata\\local\\programs\\python\\python39\\lib\\site-packages (from requests->transformers==4.28) (1.26.18)\n"
          ]
        },
        {
          "name": "stderr",
          "output_type": "stream",
          "text": [
            "WARNING: You are using pip version 22.0.4; however, version 24.0 is available.\n",
            "You should consider upgrading via the 'C:\\Users\\doanh\\AppData\\Local\\Programs\\Python\\Python39\\python.exe -m pip install --upgrade pip' command.\n"
          ]
        }
      ],
      "source": [
        "!pip install gradio\n",
        "!pip install transformers==4.28\n"
      ]
    },
    {
      "cell_type": "markdown",
      "metadata": {
        "id": "5cmfTUraiEX1"
      },
      "source": [
        "# Load model"
      ]
    },
    {
      "cell_type": "code",
      "execution_count": 3,
      "metadata": {
        "_cell_guid": "b1076dfc-b9ad-4769-8c92-a6c4dae69d19",
        "_uuid": "8f2839f25d086af736a60e9eeb907d3b93b6e0e5",
        "execution": {
          "iopub.execute_input": "2023-06-22T16:53:14.246117Z",
          "iopub.status.busy": "2023-06-22T16:53:14.245423Z",
          "iopub.status.idle": "2023-06-22T16:53:25.561719Z",
          "shell.execute_reply": "2023-06-22T16:53:25.560652Z",
          "shell.execute_reply.started": "2023-06-22T16:53:14.246076Z"
        },
        "id": "QMSyQHsvVQoe",
        "tags": [],
        "trusted": true
      },
      "outputs": [],
      "source": [
        "from transformers import AutoTokenizer, AutoModelForSeq2SeqLM\n",
        "\n",
        "from transformers import AutoTokenizer\n",
        "import torch\n",
        "\n",
        "\n"
      ]
    },
    {
      "cell_type": "code",
      "execution_count": 4,
      "metadata": {
        "colab": {
          "base_uri": "https://localhost:8080/"
        },
        "execution": {
          "iopub.execute_input": "2023-06-22T16:53:25.564673Z",
          "iopub.status.busy": "2023-06-22T16:53:25.563073Z",
          "iopub.status.idle": "2023-06-22T16:55:38.282074Z",
          "shell.execute_reply": "2023-06-22T16:55:38.281051Z",
          "shell.execute_reply.started": "2023-06-22T16:53:25.564635Z"
        },
        "id": "0YqaX1e_VQoe",
        "outputId": "446bd1d7-86cd-407a-fda8-4c2b2a858d77",
        "tags": [],
        "trusted": true
      },
      "outputs": [
        {
          "name": "stderr",
          "output_type": "stream",
          "text": [
            "Special tokens have been added in the vocabulary, make sure the associated word embeddings are fine-tuned or trained.\n"
          ]
        }
      ],
      "source": [
        "model_path = \"vinai/bartpho-word\"\n",
        "device = \"cuda\" if torch.cuda.is_available() else \"cpu\"\n",
        "model = AutoModelForSeq2SeqLM.from_pretrained(model_path).to(device)\n",
        "tokenizer = AutoTokenizer.from_pretrained(model_path)"
      ]
    },
    {
      "cell_type": "markdown",
      "metadata": {
        "id": "AObMT5dTlpSR"
      },
      "source": [
        "# Load Dataset"
      ]
    },
    {
      "cell_type": "code",
      "execution_count": 5,
      "metadata": {},
      "outputs": [],
      "source": [
        "import datasets"
      ]
    },
    {
      "cell_type": "code",
      "execution_count": 6,
      "metadata": {
        "colab": {
          "base_uri": "https://localhost:8080/",
          "height": 86,
          "referenced_widgets": [
            "869aafdff9ce42da84d20104c2fe5726",
            "915ae609c3e443eb971affe6ea08eac8",
            "5c010c4578f84e2f83d7e0d36a0b3bc2",
            "5d61158d04da4709b1d24ce7912634f7",
            "ed3470c0ccf746ae8443c4e0b435eeb5",
            "be063047f44040038559e19766e185b8",
            "aa5834f82045410e96d6103788b125d2",
            "7fa2bddf987f46f09cf40c095b499472",
            "976cac5aa7d64897a19782b6daff541d",
            "0db94fb441b04857884756ff2b5c25e5",
            "a39e555593194101bc5734fa766b8350"
          ]
        },
        "id": "OR6tsvnNlrQ6",
        "outputId": "96c09ded-111c-4080-fa5f-050a0fa7be50"
      },
      "outputs": [],
      "source": [
        "from datasets import load_dataset, Dataset, DatasetDict\n",
        "\n",
        "dataset = load_dataset(\"Valleyy/final_nlp_data\")"
      ]
    },
    {
      "cell_type": "markdown",
      "metadata": {
        "id": "5gLvTm8Ph_xN"
      },
      "source": [
        "# Demo"
      ]
    },
    {
      "cell_type": "code",
      "execution_count": null,
      "metadata": {
        "execution": {
          "iopub.execute_input": "2023-05-30T04:30:27.985924Z",
          "iopub.status.busy": "2023-05-30T04:30:27.985533Z",
          "iopub.status.idle": "2023-05-30T04:30:27.991865Z",
          "shell.execute_reply": "2023-05-30T04:30:27.990848Z",
          "shell.execute_reply.started": "2023-05-30T04:30:27.985893Z"
        },
        "id": "EahdQboIVQor",
        "trusted": true
      },
      "outputs": [],
      "source": [
        "def generate(inputs, num_returns=1):\n",
        "    inputs = tokenizer.encode(inputs, return_tensors=\"pt\", max_length = 1024, padding = True, truncation = True).to(device)\n",
        "    # outputs = model.generate(inputs, max_length = 1024, num_beams = 10, )\n",
        "    #outputs = model.generate(inputs, generation_config=genConfig)\n",
        "    outputs = model.generate(inputs, max_length = 1024, num_beams = 5,\n",
        "                            num_beam_groups = 5, num_return_sequences = num_returns, no_repeat_ngram_size = 3, diversity_penalty=0.1)\n",
        "    return tokenizer.decode(outputs[0], skip_special_tokens=True)"
      ]
    },
    {
      "cell_type": "code",
      "execution_count": null,
      "metadata": {
        "colab": {
          "base_uri": "https://localhost:8080/",
          "height": 611
        },
        "id": "uYvKiEXVVQo0",
        "outputId": "772ab130-bb7d-487f-b95f-c3f4980db00f"
      },
      "outputs": [
        {
          "data": {
            "text/plain": [
              "'\\nimport gradio as gr\\n\\n\\ndemo = gr.Interface(\\n    fn=generate,\\n    inputs=gr.Textbox(label=\"Document\", lines=2, placeholder=\"Document\"),\\n    outputs=gr.Textbox(label=\"Summary\"), examples=test[5:10][\"Document\"],\\n)\\ndemo.launch(share=True)\\n'"
            ]
          },
          "execution_count": 89,
          "metadata": {},
          "output_type": "execute_result"
        }
      ],
      "source": [
        "\n",
        "import gradio as gr\n",
        "\n",
        "\n",
        "demo = gr.Interface(\n",
        "    fn=generate,\n",
        "    inputs=gr.Textbox(label=\"Document\", lines=2, placeholder=\"Document\"),\n",
        "    outputs=gr.Textbox(label=\"Summary\"), examples=dataset[5:10]['valid'][\"Document\"],\n",
        ")\n",
        "demo.launch(share=True)\n"
      ]
    },
    {
      "cell_type": "code",
      "execution_count": null,
      "metadata": {
        "id": "4J_Nbfa0rxWQ"
      },
      "outputs": [],
      "source": []
    }
  ],
  "metadata": {
    "accelerator": "GPU",
    "colab": {
      "gpuType": "V100",
      "provenance": []
    },
    "kernelspec": {
      "display_name": "Python 3",
      "name": "python3"
    },
    "language_info": {
      "codemirror_mode": {
        "name": "ipython",
        "version": 3
      },
      "file_extension": ".py",
      "mimetype": "text/x-python",
      "name": "python",
      "nbconvert_exporter": "python",
      "pygments_lexer": "ipython3",
      "version": "3.9.11"
    },
    "widgets": {
      "application/vnd.jupyter.widget-state+json": {
        "0db94fb441b04857884756ff2b5c25e5": {
          "model_module": "@jupyter-widgets/base",
          "model_module_version": "1.2.0",
          "model_name": "LayoutModel",
          "state": {
            "_model_module": "@jupyter-widgets/base",
            "_model_module_version": "1.2.0",
            "_model_name": "LayoutModel",
            "_view_count": null,
            "_view_module": "@jupyter-widgets/base",
            "_view_module_version": "1.2.0",
            "_view_name": "LayoutView",
            "align_content": null,
            "align_items": null,
            "align_self": null,
            "border": null,
            "bottom": null,
            "display": null,
            "flex": null,
            "flex_flow": null,
            "grid_area": null,
            "grid_auto_columns": null,
            "grid_auto_flow": null,
            "grid_auto_rows": null,
            "grid_column": null,
            "grid_gap": null,
            "grid_row": null,
            "grid_template_areas": null,
            "grid_template_columns": null,
            "grid_template_rows": null,
            "height": null,
            "justify_content": null,
            "justify_items": null,
            "left": null,
            "margin": null,
            "max_height": null,
            "max_width": null,
            "min_height": null,
            "min_width": null,
            "object_fit": null,
            "object_position": null,
            "order": null,
            "overflow": null,
            "overflow_x": null,
            "overflow_y": null,
            "padding": null,
            "right": null,
            "top": null,
            "visibility": null,
            "width": null
          }
        },
        "5c010c4578f84e2f83d7e0d36a0b3bc2": {
          "model_module": "@jupyter-widgets/controls",
          "model_module_version": "1.5.0",
          "model_name": "FloatProgressModel",
          "state": {
            "_dom_classes": [],
            "_model_module": "@jupyter-widgets/controls",
            "_model_module_version": "1.5.0",
            "_model_name": "FloatProgressModel",
            "_view_count": null,
            "_view_module": "@jupyter-widgets/controls",
            "_view_module_version": "1.5.0",
            "_view_name": "ProgressView",
            "bar_style": "success",
            "description": "",
            "description_tooltip": null,
            "layout": "IPY_MODEL_7fa2bddf987f46f09cf40c095b499472",
            "max": 1,
            "min": 0,
            "orientation": "horizontal",
            "style": "IPY_MODEL_976cac5aa7d64897a19782b6daff541d",
            "value": 1
          }
        },
        "5d61158d04da4709b1d24ce7912634f7": {
          "model_module": "@jupyter-widgets/controls",
          "model_module_version": "1.5.0",
          "model_name": "HTMLModel",
          "state": {
            "_dom_classes": [],
            "_model_module": "@jupyter-widgets/controls",
            "_model_module_version": "1.5.0",
            "_model_name": "HTMLModel",
            "_view_count": null,
            "_view_module": "@jupyter-widgets/controls",
            "_view_module_version": "1.5.0",
            "_view_name": "HTMLView",
            "description": "",
            "description_tooltip": null,
            "layout": "IPY_MODEL_0db94fb441b04857884756ff2b5c25e5",
            "placeholder": "​",
            "style": "IPY_MODEL_a39e555593194101bc5734fa766b8350",
            "value": " 1/1 [00:00&lt;00:00, 29.55it/s]"
          }
        },
        "7fa2bddf987f46f09cf40c095b499472": {
          "model_module": "@jupyter-widgets/base",
          "model_module_version": "1.2.0",
          "model_name": "LayoutModel",
          "state": {
            "_model_module": "@jupyter-widgets/base",
            "_model_module_version": "1.2.0",
            "_model_name": "LayoutModel",
            "_view_count": null,
            "_view_module": "@jupyter-widgets/base",
            "_view_module_version": "1.2.0",
            "_view_name": "LayoutView",
            "align_content": null,
            "align_items": null,
            "align_self": null,
            "border": null,
            "bottom": null,
            "display": null,
            "flex": null,
            "flex_flow": null,
            "grid_area": null,
            "grid_auto_columns": null,
            "grid_auto_flow": null,
            "grid_auto_rows": null,
            "grid_column": null,
            "grid_gap": null,
            "grid_row": null,
            "grid_template_areas": null,
            "grid_template_columns": null,
            "grid_template_rows": null,
            "height": null,
            "justify_content": null,
            "justify_items": null,
            "left": null,
            "margin": null,
            "max_height": null,
            "max_width": null,
            "min_height": null,
            "min_width": null,
            "object_fit": null,
            "object_position": null,
            "order": null,
            "overflow": null,
            "overflow_x": null,
            "overflow_y": null,
            "padding": null,
            "right": null,
            "top": null,
            "visibility": null,
            "width": null
          }
        },
        "869aafdff9ce42da84d20104c2fe5726": {
          "model_module": "@jupyter-widgets/controls",
          "model_module_version": "1.5.0",
          "model_name": "HBoxModel",
          "state": {
            "_dom_classes": [],
            "_model_module": "@jupyter-widgets/controls",
            "_model_module_version": "1.5.0",
            "_model_name": "HBoxModel",
            "_view_count": null,
            "_view_module": "@jupyter-widgets/controls",
            "_view_module_version": "1.5.0",
            "_view_name": "HBoxView",
            "box_style": "",
            "children": [
              "IPY_MODEL_915ae609c3e443eb971affe6ea08eac8",
              "IPY_MODEL_5c010c4578f84e2f83d7e0d36a0b3bc2",
              "IPY_MODEL_5d61158d04da4709b1d24ce7912634f7"
            ],
            "layout": "IPY_MODEL_ed3470c0ccf746ae8443c4e0b435eeb5"
          }
        },
        "915ae609c3e443eb971affe6ea08eac8": {
          "model_module": "@jupyter-widgets/controls",
          "model_module_version": "1.5.0",
          "model_name": "HTMLModel",
          "state": {
            "_dom_classes": [],
            "_model_module": "@jupyter-widgets/controls",
            "_model_module_version": "1.5.0",
            "_model_name": "HTMLModel",
            "_view_count": null,
            "_view_module": "@jupyter-widgets/controls",
            "_view_module_version": "1.5.0",
            "_view_name": "HTMLView",
            "description": "",
            "description_tooltip": null,
            "layout": "IPY_MODEL_be063047f44040038559e19766e185b8",
            "placeholder": "​",
            "style": "IPY_MODEL_aa5834f82045410e96d6103788b125d2",
            "value": "100%"
          }
        },
        "976cac5aa7d64897a19782b6daff541d": {
          "model_module": "@jupyter-widgets/controls",
          "model_module_version": "1.5.0",
          "model_name": "ProgressStyleModel",
          "state": {
            "_model_module": "@jupyter-widgets/controls",
            "_model_module_version": "1.5.0",
            "_model_name": "ProgressStyleModel",
            "_view_count": null,
            "_view_module": "@jupyter-widgets/base",
            "_view_module_version": "1.2.0",
            "_view_name": "StyleView",
            "bar_color": null,
            "description_width": ""
          }
        },
        "a39e555593194101bc5734fa766b8350": {
          "model_module": "@jupyter-widgets/controls",
          "model_module_version": "1.5.0",
          "model_name": "DescriptionStyleModel",
          "state": {
            "_model_module": "@jupyter-widgets/controls",
            "_model_module_version": "1.5.0",
            "_model_name": "DescriptionStyleModel",
            "_view_count": null,
            "_view_module": "@jupyter-widgets/base",
            "_view_module_version": "1.2.0",
            "_view_name": "StyleView",
            "description_width": ""
          }
        },
        "aa5834f82045410e96d6103788b125d2": {
          "model_module": "@jupyter-widgets/controls",
          "model_module_version": "1.5.0",
          "model_name": "DescriptionStyleModel",
          "state": {
            "_model_module": "@jupyter-widgets/controls",
            "_model_module_version": "1.5.0",
            "_model_name": "DescriptionStyleModel",
            "_view_count": null,
            "_view_module": "@jupyter-widgets/base",
            "_view_module_version": "1.2.0",
            "_view_name": "StyleView",
            "description_width": ""
          }
        },
        "be063047f44040038559e19766e185b8": {
          "model_module": "@jupyter-widgets/base",
          "model_module_version": "1.2.0",
          "model_name": "LayoutModel",
          "state": {
            "_model_module": "@jupyter-widgets/base",
            "_model_module_version": "1.2.0",
            "_model_name": "LayoutModel",
            "_view_count": null,
            "_view_module": "@jupyter-widgets/base",
            "_view_module_version": "1.2.0",
            "_view_name": "LayoutView",
            "align_content": null,
            "align_items": null,
            "align_self": null,
            "border": null,
            "bottom": null,
            "display": null,
            "flex": null,
            "flex_flow": null,
            "grid_area": null,
            "grid_auto_columns": null,
            "grid_auto_flow": null,
            "grid_auto_rows": null,
            "grid_column": null,
            "grid_gap": null,
            "grid_row": null,
            "grid_template_areas": null,
            "grid_template_columns": null,
            "grid_template_rows": null,
            "height": null,
            "justify_content": null,
            "justify_items": null,
            "left": null,
            "margin": null,
            "max_height": null,
            "max_width": null,
            "min_height": null,
            "min_width": null,
            "object_fit": null,
            "object_position": null,
            "order": null,
            "overflow": null,
            "overflow_x": null,
            "overflow_y": null,
            "padding": null,
            "right": null,
            "top": null,
            "visibility": null,
            "width": null
          }
        },
        "ed3470c0ccf746ae8443c4e0b435eeb5": {
          "model_module": "@jupyter-widgets/base",
          "model_module_version": "1.2.0",
          "model_name": "LayoutModel",
          "state": {
            "_model_module": "@jupyter-widgets/base",
            "_model_module_version": "1.2.0",
            "_model_name": "LayoutModel",
            "_view_count": null,
            "_view_module": "@jupyter-widgets/base",
            "_view_module_version": "1.2.0",
            "_view_name": "LayoutView",
            "align_content": null,
            "align_items": null,
            "align_self": null,
            "border": null,
            "bottom": null,
            "display": null,
            "flex": null,
            "flex_flow": null,
            "grid_area": null,
            "grid_auto_columns": null,
            "grid_auto_flow": null,
            "grid_auto_rows": null,
            "grid_column": null,
            "grid_gap": null,
            "grid_row": null,
            "grid_template_areas": null,
            "grid_template_columns": null,
            "grid_template_rows": null,
            "height": null,
            "justify_content": null,
            "justify_items": null,
            "left": null,
            "margin": null,
            "max_height": null,
            "max_width": null,
            "min_height": null,
            "min_width": null,
            "object_fit": null,
            "object_position": null,
            "order": null,
            "overflow": null,
            "overflow_x": null,
            "overflow_y": null,
            "padding": null,
            "right": null,
            "top": null,
            "visibility": null,
            "width": null
          }
        }
      }
    }
  },
  "nbformat": 4,
  "nbformat_minor": 0
}
